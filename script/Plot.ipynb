{
 "cells": [
  {
   "cell_type": "code",
   "execution_count": null,
   "id": "d9315858",
   "metadata": {},
   "outputs": [],
   "source": [
    "import plotly\n",
    "import json\n",
    "import requests\n",
    "import pandas as pd\n",
    "import geopandas as gpd\n",
    "import plotly.graph_objects as go\n",
    "from urllib.request import urlopen\n",
    "from nowcasting_forecast.database.models import Forecast, ManyForecasts\n",
    "\n",
    "URL = 'XXX.com'"
   ]
  },
  {
   "cell_type": "code",
   "execution_count": null,
   "id": "6884e0bf",
   "metadata": {},
   "outputs": [],
   "source": [
    "# Get GSP boundaries\n",
    "\n",
    "r = requests.get(URL+'/v0/forecasts/GB/pv/gsp_boundaries/')\n",
    "d = json.loads(r.json())\n",
    "boundaries = gpd.GeoDataFrame.from_features(d[\"features\"])\n"
   ]
  },
  {
   "cell_type": "code",
   "execution_count": null,
   "id": "fe1fa454",
   "metadata": {},
   "outputs": [],
   "source": [
    "# get forecasts from API\n",
    "fileobj = urlopen(URL+'/v0/forecasts/GB/pv/gsp/') \n",
    "d = json.loads(fileobj.read())\n",
    "forecasts = ManyForecasts(**d)\n"
   ]
  },
  {
   "cell_type": "code",
   "execution_count": null,
   "id": "474426eb",
   "metadata": {},
   "outputs": [],
   "source": [
    "# format predictions\n",
    "time = forecasts.forecasts[1].forecast_values[0].target_time\n",
    "predictions = {f.location.gsp_id:f.forecast_values[0].expected_power_generation_megawatts for f in forecasts.forecasts}\n",
    "predictions_df = pd.DataFrame(list(predictions.items()),columns=['gsp_id','value'])\n",
    "\n",
    "boundaries_and_results = boundaries.join(predictions_df, on=['gsp_id'], rsuffix='_r')\n"
   ]
  },
  {
   "cell_type": "code",
   "execution_count": null,
   "id": "cd4fc649",
   "metadata": {},
   "outputs": [],
   "source": [
    "# plot\n",
    "boundaries_and_results = boundaries_and_results[~boundaries_and_results.RegionID.isna()]\n",
    "\n",
    "\n",
    "# make shape dict for plotting\n",
    "shapes_dict = json.loads(boundaries_and_results.to_json())\n",
    "\n",
    "# plot it\n",
    "fig = go.Figure()\n",
    "fig.add_trace(\n",
    "    go.Choroplethmapbox(\n",
    "        geojson=shapes_dict, \n",
    "        locations=boundaries_and_results.index, \n",
    "        z=boundaries_and_results.value, colorscale=\"Viridis\",\n",
    "        zmax=1,\n",
    "        zmin=0\n",
    "    )\n",
    ")\n",
    "\n",
    "fig.update_layout(mapbox_style=\"carto-positron\", mapbox_zoom=4, mapbox_center={\"lat\": 55, \"lon\": 0})\n",
    "fig.update_layout(margin={\"r\": 0, \"t\": 30, \"l\": 0, \"b\": 30})\n",
    "fig.update_layout(title=time.isoformat())\n",
    "fig.show()\n"
   ]
  },
  {
   "cell_type": "code",
   "execution_count": null,
   "id": "adfb909f",
   "metadata": {},
   "outputs": [],
   "source": []
  },
  {
   "cell_type": "code",
   "execution_count": null,
   "id": "40da3504",
   "metadata": {},
   "outputs": [],
   "source": []
  }
 ],
 "metadata": {
  "kernelspec": {
   "display_name": "Python 3 (ipykernel)",
   "language": "python",
   "name": "python3"
  },
  "language_info": {
   "codemirror_mode": {
    "name": "ipython",
    "version": 3
   },
   "file_extension": ".py",
   "mimetype": "text/x-python",
   "name": "python",
   "nbconvert_exporter": "python",
   "pygments_lexer": "ipython3",
   "version": "3.9.6"
  }
 },
 "nbformat": 4,
 "nbformat_minor": 5
}
